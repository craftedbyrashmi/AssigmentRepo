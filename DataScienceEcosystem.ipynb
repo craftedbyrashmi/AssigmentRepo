{
  "metadata": {
    "kernelspec": {
      "name": "python",
      "display_name": "Python (Pyodide)",
      "language": "python"
    },
    "language_info": {
      "codemirror_mode": {
        "name": "python",
        "version": 3
      },
      "file_extension": ".py",
      "mimetype": "text/x-python",
      "name": "python",
      "nbconvert_exporter": "python",
      "pygments_lexer": "ipython3",
      "version": "3.8"
    }
  },
  "nbformat_minor": 5,
  "nbformat": 4,
  "cells": [
    {
      "id": "fcb76649-f39a-42de-8daa-20222c97b081",
      "cell_type": "markdown",
      "source": "# Data Science Tools and Ecosystem\n",
      "metadata": {}
    },
    {
      "id": "d3becda3-eb86-4346-b63b-b1f70e2b8a5e",
      "cell_type": "markdown",
      "source": "In this notebook, Data Science Tools and Ecosystem are summarized.",
      "metadata": {}
    },
    {
      "id": "bf504633-3c27-4bf2-9d2f-dddf698c2e6a",
      "cell_type": "markdown",
      "source": "Some of the popular languages that Data Scientists use are:\n1. Python\n2. R\n3. Java",
      "metadata": {}
    },
    {
      "id": "dd47fe48-8dd2-4c77-9021-04967b922341",
      "cell_type": "markdown",
      "source": "Some of the commonly used libraries used by Data Scientists include:\n1. Pandas\n2. Numphy\n3. MatplotLib",
      "metadata": {}
    },
    {
      "id": "8fcc506e-1735-4aa7-9a40-5e776fc6b642",
      "cell_type": "markdown",
      "source": "|Data Science Tools|\n|------------------|\n|Jupyterlab|\n|VSCode|\n|Anaconda3|",
      "metadata": {}
    },
    {
      "id": "a65d4c52-12c3-4450-83f0-f02d45901747",
      "cell_type": "markdown",
      "source": "### Below are a few examples of evaluating arithmetic expressions in Python",
      "metadata": {}
    },
    {
      "id": "65faa39c-1738-4531-930d-53d6f879107f",
      "cell_type": "code",
      "source": "#This a simple arithmetic expression to mutiply then add integers\n(3*4)+5",
      "metadata": {
        "trusted": true
      },
      "outputs": [
        {
          "execution_count": 1,
          "output_type": "execute_result",
          "data": {
            "text/plain": "17"
          },
          "metadata": {}
        }
      ],
      "execution_count": 1
    },
    {
      "id": "ea2a9562-ede7-4c57-be50-c2a2a0630de6",
      "cell_type": "code",
      "source": "#This will convert 200 minutes to hours by diving by 60\n200/60",
      "metadata": {
        "trusted": true
      },
      "outputs": [
        {
          "execution_count": 2,
          "output_type": "execute_result",
          "data": {
            "text/plain": "3.3333333333333335"
          },
          "metadata": {}
        }
      ],
      "execution_count": 2
    },
    {
      "id": "c5f48f4c-9039-4ee5-98fc-4571e5459f26",
      "cell_type": "markdown",
      "source": "**OBJECTIVES**\n+ Popular Data Science Tools\n+ Commonly used Libraries\n+ Data Science Open Source Platform",
      "metadata": {}
    },
    {
      "id": "c70fb4b3-c07b-4d77-8b07-4afc20cc175a",
      "cell_type": "code",
      "source": "",
      "metadata": {
        "trusted": true
      },
      "outputs": [],
      "execution_count": null
    }
  ]
}